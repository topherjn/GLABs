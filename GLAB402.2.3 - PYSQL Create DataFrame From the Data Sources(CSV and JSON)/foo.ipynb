{
 "cells": [
  {
   "cell_type": "code",
   "execution_count": 1,
   "metadata": {},
   "outputs": [],
   "source": [
    "from pyspark.sql import SparkSession #Importing the Libraries\n",
    "from pyspark.sql.types import StructType,StructField, StringType, IntegerType,BooleanType,DoubleType"
   ]
  },
  {
   "cell_type": "code",
   "execution_count": 2,
   "metadata": {},
   "outputs": [
    {
     "name": "stdout",
     "output_type": "stream",
     "text": [
      "root\n",
      " |-- Car: string (nullable = true)\n",
      " |-- MPG: double (nullable = true)\n",
      " |-- Cylinders: integer (nullable = true)\n",
      " |-- Displacement: double (nullable = true)\n",
      " |-- Horsepower: integer (nullable = true)\n",
      " |-- Weight: integer (nullable = true)\n",
      " |-- Acceleration: double (nullable = true)\n",
      " |-- Model: integer (nullable = true)\n",
      " |-- Origin: string (nullable = true)\n",
      " |-- quantity: integer (nullable = true)\n",
      " |-- city: string (nullable = true)\n",
      "\n"
     ]
    }
   ],
   "source": [
    "\n",
    "# make the cars data easier to reference\n",
    "data = 'D:\\Per Scholas\\SparkStuff\\data'\n",
    "\n",
    "# Creating Spark Session\n",
    "spark = SparkSession.builder.appName('SparkByExamples.com').getOrCreate()\n",
    "# Reading /loading the Dataset from CSV file\n",
    "cardf = spark.read.load(f\"{data}\\{'cars.csv'}\", format=\"csv\", header = True,inferSchema = True)\n",
    "\n",
    "# the types of the columns\n",
    "cardf.printSchema()\n"
   ]
  },
  {
   "cell_type": "code",
   "execution_count": 3,
   "metadata": {},
   "outputs": [
    {
     "name": "stdout",
     "output_type": "stream",
     "text": [
      "Car\n",
      "MPG\n",
      "Cylinders\n",
      "Displacement\n",
      "Horsepower\n",
      "Weight\n",
      "Acceleration\n",
      "Model\n",
      "Origin\n",
      "quantity\n",
      "city\n"
     ]
    }
   ],
   "source": [
    "\n",
    "# column names\n",
    "for column in cardf.columns:\n",
    "    print(column)\n"
   ]
  },
  {
   "cell_type": "code",
   "execution_count": null,
   "metadata": {},
   "outputs": [],
   "source": [
    "\n",
    "# whole dataset (well, 20 columns)\n",
    "cardf.show()\n",
    "\n",
    "# top of the set\n",
    "print(cardf.head())\n",
    "\n",
    "# end of set\n",
    "print(cardf.tail(2))\n",
    "\n",
    "# number of columns\n",
    "print(len(cardf.columns))\n",
    "\n",
    "# get statistics for Car column\n",
    "cardf.describe('Car').show()\n",
    "\n",
    "# sort by acceleration\n",
    "cardf.orderBy(cardf.Acceleration.desc()).show(10)\n",
    "\n",
    "# task 2\n",
    "\n",
    "# Read JSON file into dataframe into dataframe:\n",
    "df = spark.read.json(f\"{data}\\{'zipcode.json'}\")\n",
    "df.printSchema()\n",
    "df.show()\n",
    "\n",
    "# Read multi-line JSON file into dataframe:\n",
    "multiline_df = spark.read.option(\"multiline\",\"true\") \\\n",
    "      .json(f\"{data}\\{'multiline-zipcode.json'}\")\n",
    "multiline_df.show()\n",
    "\n",
    "# Read multiple JSON files into dataframe:\n",
    "df2 = spark.read.json([f\"{data}\\{'zipcode.json'}\",f\"{data}\\{'zipcode1.json'}\"])\n",
    "df2.show(4)   \n",
    "\n",
    "# Read all JSON files from a directory:\n",
    "df3 = spark.read.json(f\"{data}\\*.json\")\n",
    "df3.show()\n",
    "\n",
    "schema = StructType([\n",
    "      StructField(\"RecordNumber\",IntegerType(),True),\n",
    "      StructField(\"Zipcode\",IntegerType(),True),\n",
    "      StructField(\"ZipCodeType\",StringType(),True),\n",
    "      StructField(\"City\",StringType(),True),\n",
    "      StructField(\"State\",StringType(),True),\n",
    "      StructField(\"LocationType\",StringType(),True),\n",
    "      StructField(\"Lat\",DoubleType(),True),\n",
    "      StructField(\"Long\",DoubleType(),True),\n",
    "      StructField(\"Xaxis\",IntegerType(),True),\n",
    "      StructField(\"Yaxis\",DoubleType(),True),\n",
    "      StructField(\"Zaxis\",DoubleType(),True),\n",
    "      StructField(\"WorldRegion\",StringType(),True),\n",
    "      StructField(\"Country\",StringType(),True),\n",
    "      StructField(\"LocationText\",StringType(),True),\n",
    "      StructField(\"Location\",StringType(),True),\n",
    "      StructField(\"Decommisioned\",BooleanType(),True),\n",
    "      StructField(\"TaxReturnsFiled\",StringType(),True),\n",
    "      StructField(\"EstimatedPopulation\",IntegerType(),True),\n",
    "      StructField(\"TotalWages\",IntegerType(),True),\n",
    "      StructField(\"Notes\",StringType(),True)\n",
    "  ])\n",
    "\n",
    "# custom schema\n",
    "df_with_schema = spark.read.schema(schema).json(f\"{data}\\zipcode.json\")\n",
    "df_with_schema.printSchema()\n",
    "df_with_schema.show(3)\n",
    "\n",
    "\n",
    "spark.stop()\n"
   ]
  }
 ],
 "metadata": {
  "kernelspec": {
   "display_name": "Python 3",
   "language": "python",
   "name": "python3"
  },
  "language_info": {
   "codemirror_mode": {
    "name": "ipython",
    "version": 3
   },
   "file_extension": ".py",
   "mimetype": "text/x-python",
   "name": "python",
   "nbconvert_exporter": "python",
   "pygments_lexer": "ipython3",
   "version": "3.10.5"
  }
 },
 "nbformat": 4,
 "nbformat_minor": 2
}
