{
  "nbformat": 4,
  "nbformat_minor": 0,
  "metadata": {
    "colab": {
      "provenance": [],
      "include_colab_link": true
    },
    "kernelspec": {
      "name": "python3",
      "display_name": "Python 3"
    },
    "language_info": {
      "name": "python"
    }
  },
  "cells": [
    {
      "cell_type": "markdown",
      "metadata": {
        "id": "view-in-github",
        "colab_type": "text"
      },
      "source": [
        "<a href=\"https://colab.research.google.com/github/topherjn/GLABs/blob/master/PA_410_7_1_Python_Practice_Problems_General.ipynb\" target=\"_parent\"><img src=\"https://colab.research.google.com/assets/colab-badge.svg\" alt=\"Open In Colab\"/></a>"
      ]
    },
    {
      "cell_type": "markdown",
      "source": [
        "# 11 Python Practice Problems\n",
        "\n",
        "In this lab we will be practicing the following skills by defining functions to meet a given set of conditions.\n",
        "<br></br>\n",
        "* Passing arguements into a function\n",
        "* String Manipulation\n",
        "* Traversing a List\n",
        "* Accessing indexes of a String/List\n",
        "* Mathematic Operators\n",
        "* Returning a Value from a function\n",
        "* String and List Manipulation\n",
        "* Working with Integers\n",
        "* Booleans\n",
        "* Assigning Keys and Values to a Dictionary\n",
        "<br></br>\n",
        "\n",
        "*Note: Pay special attention to how the question asks for the return and whether the Python Objects are supposed to be modified in place or can be returned in a new Python Object.*"
      ],
      "metadata": {
        "id": "7I7OGBejLdi0"
      }
    },
    {
      "cell_type": "markdown",
      "source": [
        "**Problem 1**\n",
        "\n",
        "Given a list, define and call function that changes all positive numbers in the list to \"big\".\n",
        "\n",
        "Example: make_it_big([-1, 3, 5, -5]) returns the same list, changed to [-1, \"big\", \"big\", -5]."
      ],
      "metadata": {
        "id": "YAXLPdn1Ldyg"
      }
    },
    {
      "cell_type": "code",
      "source": [
        "['big' if x > 0 else x for x in [-1, 3, 5, -5] ]"
      ],
      "metadata": {
        "id": "HdN5LXlG01FL",
        "outputId": "0c7a289a-a5bc-4f52-d437-3f72521f5d07",
        "colab": {
          "base_uri": "https://localhost:8080/"
        }
      },
      "execution_count": null,
      "outputs": [
        {
          "output_type": "execute_result",
          "data": {
            "text/plain": [
              "[-1, 'big', 'big', -5]"
            ]
          },
          "metadata": {},
          "execution_count": 4
        }
      ]
    },
    {
      "cell_type": "markdown",
      "source": [
        "**Problem 2**\n",
        "\n",
        "Given a list of numbers, define and call a function to replace last value in the list with the total number of positive values.\n",
        "\n",
        "Example: count_positives([-1,1,1,1]) changes the list to [-1,1,1,3] and returns it.  \n",
        "\n",
        "(Note that zero is not considered to be a positive number)."
      ],
      "metadata": {
        "id": "wo6ZkOc001qV"
      }
    },
    {
      "cell_type": "code",
      "source": [
        "def count_positives(numbers):\n",
        "  count = len([x for x in numbers if x > 0])\n",
        "  numbers[-1] = count\n",
        "  return numbers\n",
        "\n",
        "list_of_numbers = [-1, 1, 1, 1]\n",
        "list_of_numbers = count_positives(list_of_numbers)\n",
        "\n",
        "print(list_of_numbers)"
      ],
      "metadata": {
        "id": "JPQzOnqN1313",
        "colab": {
          "base_uri": "https://localhost:8080/"
        },
        "outputId": "6833be81-b6ea-4847-84d0-e8497b557dba"
      },
      "execution_count": 7,
      "outputs": [
        {
          "output_type": "stream",
          "name": "stdout",
          "text": [
            "[-1, 1, 1, 3]\n"
          ]
        }
      ]
    },
    {
      "cell_type": "markdown",
      "source": [
        "**Problem 3**\n",
        "\n",
        "Define a function that takes a list as an argument and returns the sum of all the values in the list.\n",
        "\n",
        "Example: sum_total([1,2,3,4]) should return 10."
      ],
      "metadata": {
        "id": "ptZf7HTI14gD"
      }
    },
    {
      "cell_type": "code",
      "source": [
        "# prompt: def sum_total(a_list):\n",
        "\n",
        "def sum_total(a_list):\n",
        "  return sum(a_list)\n",
        "\n",
        "print(sum_total([1,2,3,4]))\n"
      ],
      "metadata": {
        "id": "atap2VZq2Mi5",
        "colab": {
          "base_uri": "https://localhost:8080/"
        },
        "outputId": "2b360735-8e28-492c-ebf0-4a8ef4f08bee"
      },
      "execution_count": 13,
      "outputs": [
        {
          "output_type": "stream",
          "name": "stdout",
          "text": [
            "10\n"
          ]
        }
      ]
    },
    {
      "cell_type": "markdown",
      "source": [
        "**Problem 4**\n",
        "\n",
        "Define a function that takes a list as an argument and returns the average of all the values in the list. Round the average to two decimal places\n",
        "\n",
        "Example: multiples([1,2,3,4]) should return 2.5\n"
      ],
      "metadata": {
        "id": "JzieIPdi2Lxk"
      }
    },
    {
      "cell_type": "code",
      "source": [],
      "metadata": {
        "id": "oQsOy4mt2jvU"
      },
      "execution_count": null,
      "outputs": []
    },
    {
      "cell_type": "markdown",
      "source": [
        "**Problem 5**\n",
        "\n",
        "Define a function that takes a list as an argument and returns the length of the list.  \n",
        "\n",
        "Example: length([1,2,3,4]) should return 4.\n",
        "\n"
      ],
      "metadata": {
        "id": "SPc-IKFM2nXn"
      }
    },
    {
      "cell_type": "code",
      "source": [],
      "metadata": {
        "id": "R2qK04dL2y2b"
      },
      "execution_count": null,
      "outputs": []
    },
    {
      "cell_type": "markdown",
      "source": [
        "**Problem 6**\n",
        "\n",
        "Define a function that takes a list as an argument and returns the minimum value in the list.  If the passed list is empty, have the function return false.  \n",
        "\n",
        "Example: minimum([1,2,3,4]) should return 1; minimum([-1,-2,-3]) should return -3.\n"
      ],
      "metadata": {
        "id": "GUqTD19x2zaw"
      }
    },
    {
      "cell_type": "code",
      "source": [],
      "metadata": {
        "id": "yeeeGIRP2-S3"
      },
      "execution_count": null,
      "outputs": []
    },
    {
      "cell_type": "markdown",
      "source": [
        "**Problem 7**\n",
        "\n",
        "Define a function that takes a list as an argument and returns the maximum value in the list.  If the passed list is empty, have the function return false.  \n",
        "\n",
        "Example maximum([1,2,3,4]) should return 4; maximum([-1,-2,-3]) should return -1."
      ],
      "metadata": {
        "id": "cLo0dsj-3CiC"
      }
    },
    {
      "cell_type": "code",
      "source": [],
      "metadata": {
        "id": "hVz2iR073Pey"
      },
      "execution_count": null,
      "outputs": []
    },
    {
      "cell_type": "markdown",
      "source": [
        "**Problem 8**\n",
        "\n",
        "Define a function that takes a list as an argument and returns a dictionary that has the sum_total, average, minimum, maximum and length of the list.\n"
      ],
      "metadata": {
        "id": "m8lICGl43VLW"
      }
    },
    {
      "cell_type": "code",
      "source": [],
      "metadata": {
        "id": "oxJ-3tbD3hzq"
      },
      "execution_count": null,
      "outputs": []
    },
    {
      "cell_type": "markdown",
      "source": [
        "**Problem 9**\n",
        "\n",
        "Define a function that takes a list as a argument and return a list in a reversed order.  Do this without creating a empty temporary list.  \n",
        "\n",
        "Example: reverse([1,2,3,4]) should return [4,3,2,1].\n",
        "\n",
        "This challenge is known to appear during basic technical interviews."
      ],
      "metadata": {
        "id": "Nba2BP0w3jNl"
      }
    },
    {
      "cell_type": "code",
      "source": [
        "def reverse(alist):\n",
        "  return sorted(alist, reverse=True)\n",
        "\n",
        "mylist = [1,2,3,4]\n",
        "print(reverse(mylist))\n",
        "\n",
        "print(mylist)"
      ],
      "metadata": {
        "id": "aU0jmU3F30WA",
        "colab": {
          "base_uri": "https://localhost:8080/"
        },
        "outputId": "ffd7906f-e1e8-499c-de27-fe3b57058e3a"
      },
      "execution_count": null,
      "outputs": [
        {
          "output_type": "stream",
          "name": "stdout",
          "text": [
            "[4, 3, 2, 1]\n",
            "[1, 2, 3, 4]\n"
          ]
        }
      ]
    },
    {
      "cell_type": "markdown",
      "source": [
        "**Problem 10**\n",
        "\n",
        "Given a string, define a function to check if it is palindrome or not. A string is said to be palindrome if the reverse of the string is the same as string.\n",
        "\n",
        "Example: “radar” is a palindrome, but “radix” is not a palindrome."
      ],
      "metadata": {
        "id": "9RVepvie303A"
      }
    },
    {
      "cell_type": "code",
      "source": [],
      "metadata": {
        "id": "m-qAqoSo4Ehc"
      },
      "execution_count": null,
      "outputs": []
    },
    {
      "cell_type": "markdown",
      "source": [
        "**Problem 11**\n",
        "\n",
        "Define a function that will print numbers from 1 to 100, with certain exceptions:\n",
        ">* If the number is a multiple of 3, print “Fizz” instead of the number.\n",
        ">* If the number is a multiple of 5, print “Buzz” instead of the number.\n",
        ">* If the number is a multiple of 3 and 5, print “FizzBuzz” instead of the number.\n",
        "\n",
        "This challenge is known to appear during basic technical interviews."
      ],
      "metadata": {
        "id": "emkYn6AI4FV-"
      }
    },
    {
      "cell_type": "code",
      "source": [
        "[\"FizzBuzz\" if x%3 == 0 and x%5 == 0 else 'Buzz' if x%5 == 0 else 'Fizz' if x%3 == 0 else x for x in range(1,101) ]"
      ],
      "metadata": {
        "id": "dEvb_DvZ4XCx",
        "outputId": "3b60ad6b-781e-4775-97ee-fa834d84bf76",
        "colab": {
          "base_uri": "https://localhost:8080/"
        }
      },
      "execution_count": null,
      "outputs": [
        {
          "output_type": "execute_result",
          "data": {
            "text/plain": [
              "[1,\n",
              " 2,\n",
              " 'Fizz',\n",
              " 4,\n",
              " 'Buzz',\n",
              " 'Fizz',\n",
              " 7,\n",
              " 8,\n",
              " 'Fizz',\n",
              " 'Buzz',\n",
              " 11,\n",
              " 'Fizz',\n",
              " 13,\n",
              " 14,\n",
              " 'FizzBuzz',\n",
              " 16,\n",
              " 17,\n",
              " 'Fizz',\n",
              " 19,\n",
              " 'Buzz',\n",
              " 'Fizz',\n",
              " 22,\n",
              " 23,\n",
              " 'Fizz',\n",
              " 'Buzz',\n",
              " 26,\n",
              " 'Fizz',\n",
              " 28,\n",
              " 29,\n",
              " 'FizzBuzz',\n",
              " 31,\n",
              " 32,\n",
              " 'Fizz',\n",
              " 34,\n",
              " 'Buzz',\n",
              " 'Fizz',\n",
              " 37,\n",
              " 38,\n",
              " 'Fizz',\n",
              " 'Buzz',\n",
              " 41,\n",
              " 'Fizz',\n",
              " 43,\n",
              " 44,\n",
              " 'FizzBuzz',\n",
              " 46,\n",
              " 47,\n",
              " 'Fizz',\n",
              " 49,\n",
              " 'Buzz',\n",
              " 'Fizz',\n",
              " 52,\n",
              " 53,\n",
              " 'Fizz',\n",
              " 'Buzz',\n",
              " 56,\n",
              " 'Fizz',\n",
              " 58,\n",
              " 59,\n",
              " 'FizzBuzz',\n",
              " 61,\n",
              " 62,\n",
              " 'Fizz',\n",
              " 64,\n",
              " 'Buzz',\n",
              " 'Fizz',\n",
              " 67,\n",
              " 68,\n",
              " 'Fizz',\n",
              " 'Buzz',\n",
              " 71,\n",
              " 'Fizz',\n",
              " 73,\n",
              " 74,\n",
              " 'FizzBuzz',\n",
              " 76,\n",
              " 77,\n",
              " 'Fizz',\n",
              " 79,\n",
              " 'Buzz',\n",
              " 'Fizz',\n",
              " 82,\n",
              " 83,\n",
              " 'Fizz',\n",
              " 'Buzz',\n",
              " 86,\n",
              " 'Fizz',\n",
              " 88,\n",
              " 89,\n",
              " 'FizzBuzz',\n",
              " 91,\n",
              " 92,\n",
              " 'Fizz',\n",
              " 94,\n",
              " 'Buzz',\n",
              " 'Fizz',\n",
              " 97,\n",
              " 98,\n",
              " 'Fizz',\n",
              " 'Buzz']"
            ]
          },
          "metadata": {},
          "execution_count": 5
        }
      ]
    }
  ]
}