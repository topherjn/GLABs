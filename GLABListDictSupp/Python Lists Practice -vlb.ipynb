{
 "cells": [
  {
   "cell_type": "markdown",
   "metadata": {},
   "source": [
    "# Practice Problem Worksheet: Python Lists\n",
    "Valerie's Mini Python Lists Practice Notebook\n",
    "2023.07.23 -vlb\n",
    "\n"
   ]
  },
  {
   "cell_type": "markdown",
   "metadata": {},
   "source": [
    "### Objective 1: Creating and Accessing Lists\n",
    "\n",
    "You are given a list of temperatures in Celsius for a week. Convert each temperature to Fahrenheit and store them in a new list.\n",
    "\n",
    "#### Instructions:\n",
    "\n",
    "- Given the list of temperatures in Celsius: `celsius_temperatures = [28, 30, 25, 32, 29, 27, 26]`\n",
    "- Convert each temperature to Fahrenheit using the formula: `fahrenheit = (celsius * 9/5) + 32`\n",
    "- Store the converted temperatures in a new list called `fahrenheit_temperatures`.\n",
    "- Print the `fahrenheit_temperatures` list.\n"
   ]
  },
  {
   "cell_type": "code",
   "execution_count": 6,
   "metadata": {},
   "outputs": [
    {
     "name": "stdout",
     "output_type": "stream",
     "text": [
      "[82.4, 86.0, 77.0, 89.6, 84.2, 80.6, 78.8]\n"
     ]
    }
   ],
   "source": [
    "#possible answer\n",
    "celsius_temperatures = [28, 30, 25, 32, 29, 27, 26]\n",
    "fahrenheit_temperatures = [(celsius * 9/5) + 32 for celsius in celsius_temperatures]\n",
    "print(fahrenheit_temperatures)\n",
    "\n",
    "# Explanation:\n",
    "# - We define the original list of celsius_temperatures.\n",
    "# - We use a list comprehension to iterate through each temperature in celsius_temperatures.\n",
    "# - For each temperature, we apply the formula to convert it to Fahrenheit and store the result in the fahrenheit_temperatures list.\n",
    "# - The fahrenheit_temperatures list is then printed, showing the converted temperatures.\n",
    "\n"
   ]
  },
  {
   "cell_type": "markdown",
   "metadata": {},
   "source": [
    "## Objective 2: List Slicing\n",
    "\n",
    "You have a list of fruits, and you want to create a new list containing only the first three fruits from the original list.\n",
    "#### Instructions:\n",
    "- Given the list of fruits: 'fruits = [\"apple\", \"banana\", \"orange\", \"grapes\", \"watermelon\"]'\n",
    "- Use list slicing to extract the first three fruits and store them in a new list called 'first_three_fruits'.\n",
    "- Print the 'first_three_fruits' list.\n",
    "\n"
   ]
  },
  {
   "cell_type": "code",
   "execution_count": 7,
   "metadata": {},
   "outputs": [
    {
     "name": "stdout",
     "output_type": "stream",
     "text": [
      "['apple', 'banana', 'orange']\n"
     ]
    }
   ],
   "source": [
    "#possible answer\n",
    "fruits = [\"apple\", \"banana\", \"orange\", \"grapes\", \"watermelon\"]\n",
    "first_three_fruits = fruits[:3]\n",
    "print(first_three_fruits)\n",
    "\n",
    "# Explanation:\n",
    "# - We define the original list of fruits.\n",
    "# - We use list slicing to create a new list called first_three_fruits, containing elements from index 0 to 2 (first three elements) of the fruits list.\n",
    "# - The first_three_fruits list is then printed, showing only the first three fruits.\n",
    "\n"
   ]
  },
  {
   "cell_type": "markdown",
   "metadata": {},
   "source": [
    "## Objective 3: List Concatenation\n",
    "You have two lists containing the names of students in two different classes. Combine both lists to create a single list containing all the student names.\n",
    "#### Instructions:\n",
    "- Given the two lists: class_a = [\"Alice\", \"Bob\", \"Charlie\"] and class_b = [\"David\", \"Emma\", \"Frank\"]\n",
    "- Concatenate both lists to create a new list called all_students.\n",
    "- Print the all_students list.\n",
    "\n"
   ]
  },
  {
   "cell_type": "code",
   "execution_count": 8,
   "metadata": {},
   "outputs": [
    {
     "name": "stdout",
     "output_type": "stream",
     "text": [
      "['Alice', 'Bob', 'Charlie', 'David', 'Emma', 'Frank']\n"
     ]
    }
   ],
   "source": [
    "#possible answer\n",
    "class_a = [\"Alice\", \"Bob\", \"Charlie\"]\n",
    "class_b = [\"David\", \"Emma\", \"Frank\"]\n",
    "all_students = class_a + class_b\n",
    "print(all_students)\n",
    "\n",
    "# Explanation:\n",
    "# - We define two lists, class_a and class_b, containing student names for two different classes.\n",
    "# - We concatenate both lists using the + operator and store the result in the all_students list.\n",
    "# - The all_students list is then printed, showing the combined list of student names.\n",
    "\n"
   ]
  },
  {
   "cell_type": "markdown",
   "metadata": {},
   "source": [
    "### Objective 5: Modifying List Elements\n",
    "You have a list of exam scores, and you want to increase each score by 5 points to adjust for a bonus.\n",
    "#### Instructions:\n",
    "- Given the list of exam scores: exam_scores = [78, 85, 90, 68, 92]\n",
    "- Modify each score in the exam_scores list by adding 5 to it.\n",
    "- Print the updated exam_scores list.\n",
    "\n"
   ]
  },
  {
   "cell_type": "code",
   "execution_count": 10,
   "metadata": {},
   "outputs": [
    {
     "name": "stdout",
     "output_type": "stream",
     "text": [
      "[83, 90, 95, 73, 97]\n"
     ]
    }
   ],
   "source": [
    "#possible answer\n",
    "exam_scores = [78, 85, 90, 68, 92]\n",
    "for i in range(len(exam_scores)):\n",
    "    exam_scores[i] += 5\n",
    "print(exam_scores)\n",
    "\n",
    "# Explanation:\n",
    "# - We define the original list of exam_scores.\n",
    "# - We use a for loop to iterate through the indices of the exam_scores list.\n",
    "# - For each index, we increase the corresponding exam score by 5 using the += operator.\n",
    "# - The updated exam_scores list is then printed, showing the scores adjusted for the bonus.\n"
   ]
  },
  {
   "cell_type": "markdown",
   "metadata": {},
   "source": [
    "### Objective 4: List Comprehension with Conditionals  This is for a future lesson\n",
    "You are given a list of numbers. Create a new list containing only the even numbers from the original list.\n",
    "#### Instructions:\n",
    "- Given the list of numbers: numbers = [1, 2, 3, 4, 5, 6, 7, 8, 9, 10]\n",
    "- Use list comprehension to extract only the even numbers from the numbers list and store them in a new list called even_numbers.\n",
    "- Print the even_numbers list.\n",
    "\n"
   ]
  },
  {
   "cell_type": "code",
   "execution_count": 9,
   "metadata": {},
   "outputs": [
    {
     "name": "stdout",
     "output_type": "stream",
     "text": [
      "[2, 4, 6, 8, 10]\n"
     ]
    }
   ],
   "source": [
    "#possible answer\n",
    "numbers = [1, 2, 3, 4, 5, 6, 7, 8, 9, 10]\n",
    "even_numbers = [num for num in numbers if num % 2 == 0]\n",
    "print(even_numbers)\n",
    "\n",
    "# Explanation:\n",
    "# - We define the original list of numbers.\n",
    "# - We use list comprehension to create a new list called even_numbers, containing only the elements from the numbers list for which the remainder when divided by 2 is 0 (i.e., even numbers).\n",
    "# - The even_numbers list is then printed, showing only the even numbers from the original list.\n",
    "\n"
   ]
  },
  {
   "cell_type": "markdown",
   "metadata": {},
   "source": []
  }
 ],
 "metadata": {
  "kernelspec": {
   "display_name": "Python 3",
   "language": "python",
   "name": "python3"
  },
  "language_info": {
   "codemirror_mode": {
    "name": "ipython",
    "version": 3
   },
   "file_extension": ".py",
   "mimetype": "text/x-python",
   "name": "python",
   "nbconvert_exporter": "python",
   "pygments_lexer": "ipython3",
   "version": "3.10.10"
  },
  "orig_nbformat": 4
 },
 "nbformat": 4,
 "nbformat_minor": 2
}
