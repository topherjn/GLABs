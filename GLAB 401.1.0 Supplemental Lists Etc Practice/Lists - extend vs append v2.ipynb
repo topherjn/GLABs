{
 "cells": [
  {
   "cell_type": "code",
   "execution_count": 1,
   "metadata": {},
   "outputs": [
    {
     "name": "stdout",
     "output_type": "stream",
     "text": [
      "[1, 2, 3, 4, [5, 6]]\n",
      "[1, 2, 3, 4, 5, 6]\n"
     ]
    }
   ],
   "source": [
    "# `append()` and `extend()` methods when working with lists in Python.\n",
    "\n",
    "# 1. **`append()` Method**:\n",
    "# The `append()` method is used to add a single element to the end of a list. The element can be of any data type, including other lists. If you try to append another list using `append()`, the whole list will be added as a single element within the original list.\n",
    "\n",
    "# Example using `append()`:\n",
    "\n",
    "original_list = [1, 2, 3]\n",
    "original_list.append(4)  # Adds a single element\n",
    "original_list.append([5, 6])  # Adds a list as an element\n",
    "print(original_list)  # Output: [1, 2, 3, 4, [5, 6]]\n",
    "\n",
    "\n",
    "# 2. **`extend()` Method**:\n",
    "# The `extend()` method is used to add all the elements from an iterable (such as a list, tuple, or string) to the end of the list. It unpacks the elements of the iterable and appends them individually to the original list.\n",
    "\n",
    "# Example using `extend()`:\n",
    "\n",
    "original_list = [1, 2, 3]\n",
    "elements_to_add = [4, 5, 6]\n",
    "original_list.extend(elements_to_add)\n",
    "print(original_list)  # Output: [1, 2, 3, 4, 5, 6]\n",
    "\n",
    "\n",
    "# In summary:\n",
    "# - `append()` adds a single element to the end of the list.\n",
    "# - `extend()` adds all elements from an iterable to the end of the list.\n",
    "\n",
    "# Remember, the choice between `append()` and `extend()` depends on the specific use case and the behavior you want to achieve."
   ]
  }
 ],
 "metadata": {
  "kernelspec": {
   "display_name": "Python 3",
   "language": "python",
   "name": "python3"
  },
  "language_info": {
   "codemirror_mode": {
    "name": "ipython",
    "version": 3
   },
   "file_extension": ".py",
   "mimetype": "text/x-python",
   "name": "python",
   "nbconvert_exporter": "python",
   "pygments_lexer": "ipython3",
   "version": "3.12.1"
  },
  "orig_nbformat": 4
 },
 "nbformat": 4,
 "nbformat_minor": 2
}
