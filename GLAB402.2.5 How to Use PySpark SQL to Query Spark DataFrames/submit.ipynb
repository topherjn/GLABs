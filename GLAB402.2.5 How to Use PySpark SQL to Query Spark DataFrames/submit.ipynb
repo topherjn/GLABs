{
 "cells": [
  {
   "cell_type": "markdown",
   "metadata": {},
   "source": [
    "1. Open Jupyter Notebook and import the required packages at the top of your code as shown below:\n",
    "\n",
    "import pyspark\n",
    "from pyspark.sql import SparkSession\n",
    "\n",
    "2. Initializing SparkSession\n",
    "First of all, a SparkSession needs to be initialized. With the help of SparkSession, DataFrame can be created and registered as tables. Moreover, SQL tables are executed, tables can be cached, and parquet/JSON/CSV/Avro data formatted files can be read.\n",
    "\n",
    "spark = SparkSession.builder.appName('Carapp').getOrCreate()\n",
    "\n"
   ]
  },
  {
   "cell_type": "code",
   "execution_count": 1,
   "metadata": {},
   "outputs": [],
   "source": [
    "import pyspark\n",
    "from pyspark.sql import SparkSession\n",
    "\n",
    "data = '''D:/Per Scholas/SparkStuff/data'''\n",
    "\n",
    "spark = SparkSession.builder.appName('Carapp').getOrCreate()"
   ]
  },
  {
   "cell_type": "markdown",
   "metadata": {},
   "source": [
    "\n",
    " 3. Read CSV File with Spark DataFrame API\n",
    "\n",
    "\n",
    "To read a CSV file, simply specify the path to the load() function of the read module. The inferSchema and header parameters are mandatory whenever reading CSV files. Without them, Spark will cast every data type to string and treat the header row as actual data:\n"
   ]
  },
  {
   "cell_type": "code",
   "execution_count": 2,
   "metadata": {},
   "outputs": [
    {
     "name": "stdout",
     "output_type": "stream",
     "text": [
      "root\n",
      " |-- Car: string (nullable = true)\n",
      " |-- MPG: double (nullable = true)\n",
      " |-- Cylinders: integer (nullable = true)\n",
      " |-- Displacement: double (nullable = true)\n",
      " |-- Horsepower: integer (nullable = true)\n",
      " |-- Weight: integer (nullable = true)\n",
      " |-- Acceleration: double (nullable = true)\n",
      " |-- Model: integer (nullable = true)\n",
      " |-- Origin: string (nullable = true)\n",
      " |-- quantity: integer (nullable = true)\n",
      " |-- city: string (nullable = true)\n",
      "\n"
     ]
    }
   ],
   "source": [
    "cardf = spark.read.load(f\"{data}/cars.csv\", format=\"csv\", header=True, inferSchema=True)\n",
    "\n",
    "cardf.printSchema()"
   ]
  },
  {
   "cell_type": "markdown",
   "metadata": {},
   "source": [
    "4. Running SQL Queries \n",
    "\n",
    "Call createTempView(table name) method on a DataFrame.  Call createTempView(table name) method register DataFrame as a table and create a temporary view.\n",
    "Pass any SQL statement in a call to spark.sql() and return the result sets as DataFrame structures. \n",
    "\n",
    "Example 1: Return all Data From CSV File"
   ]
  },
  {
   "cell_type": "code",
   "execution_count": 3,
   "metadata": {},
   "outputs": [
    {
     "name": "stdout",
     "output_type": "stream",
     "text": [
      "+--------------------+----+---------+------------+----------+------+------------+-----+------+--------+-------+\n",
      "|                 Car| MPG|Cylinders|Displacement|Horsepower|Weight|Acceleration|Model|Origin|quantity|   city|\n",
      "+--------------------+----+---------+------------+----------+------+------------+-----+------+--------+-------+\n",
      "|AMC Ambassador Br...|13.0|        8|       360.0|       175|  3821|        11.0|   73|    US|      25|NewYork|\n",
      "|  AMC Ambassador DPL|15.0|        8|       390.0|       190|  3850|         8.5|   70|    US|       2|     NJ|\n",
      "|  AMC Ambassador SST|17.0|        8|       304.0|       150|  3672|        11.5|   72|    US|       4| DALLAS|\n",
      "|         AMC Concord|19.4|        6|       232.0|        90|  3210|        17.2|   78|    US|      52|  TEXAS|\n",
      "|         AMC Concord|24.3|        4|       151.0|        90|  3003|        20.1|   80|    US|      42|     OH|\n",
      "|     AMC Concord d/l|18.1|        6|       258.0|       120|  3410|        15.1|   78|    US|       4|NewYork|\n",
      "|      AMC Concord DL|23.0|        4|       151.0|         0|  3035|        20.5|   82|    US|      45|     NJ|\n",
      "|    AMC Concord DL 6|20.2|        6|       232.0|        90|  3265|        18.2|   79|    US|     328| DALLAS|\n",
      "|         AMC Gremlin|21.0|        6|       199.0|        90|  2648|        15.0|   70|    US|      68|  TEXAS|\n",
      "|         AMC Gremlin|19.0|        6|       232.0|       100|  2634|        13.0|   71|    US|      78|     OH|\n",
      "|         AMC Gremlin|18.0|        6|       232.0|       100|  2789|        15.0|   73|    US|     152|NewYork|\n",
      "|         AMC Gremlin|20.0|        6|       232.0|       100|  2914|        16.0|   75|    US|     214|     NJ|\n",
      "|          AMC Hornet|18.0|        6|       199.0|        97|  2774|        15.5|   70|    US|      60| DALLAS|\n",
      "|          AMC Hornet|18.0|        6|       232.0|       100|  2945|        16.0|   73|    US|     144|  TEXAS|\n",
      "|          AMC Hornet|19.0|        6|       232.0|       100|  2901|        16.0|   74|    US|     172|     OH|\n",
      "|          AMC Hornet|22.5|        6|       232.0|        90|  3085|        17.6|   76|    US|      28|NewYork|\n",
      "|AMC Hornet Sporta...|18.0|        6|       258.0|       110|  2962|        13.5|   71|    US|      90|     NJ|\n",
      "|         AMC Matador|18.0|        6|       232.0|       100|  3288|        15.5|   71|    US|      82| DALLAS|\n",
      "|         AMC Matador|14.0|        8|       304.0|       150|  3672|        11.5|   73|    US|     131|  TEXAS|\n",
      "|         AMC Matador|16.0|        6|       258.0|       110|  3632|        18.0|   74|    US|     179|NewYork|\n",
      "|         AMC Matador|15.0|        6|       258.0|       110|  3730|        19.0|   75|    US|     207|     NJ|\n",
      "|         AMC Matador|15.5|        8|       304.0|       120|  3962|        13.9|   76|    US|     234| DALLAS|\n",
      "|    AMC Matador (sw)|15.0|        8|       304.0|       150|  3892|        12.5|   72|    US|     117|  TEXAS|\n",
      "|    AMC Matador (sw)|14.0|        8|       304.0|       150|  4257|        15.5|   74|    US|     185|     OH|\n",
      "|           AMC Pacer|19.0|        6|       232.0|        90|  3211|        17.0|   75|    US|     221|NewYork|\n",
      "|       AMC Pacer d/l|17.5|        6|       258.0|        95|  3193|        17.8|   76|    US|      75|     NJ|\n",
      "|       AMC Rebel SST|16.0|        8|       304.0|       150|  3433|        12.0|   70|    US|       4| DALLAS|\n",
      "|  AMC Rebel SST (sw)| 0.0|        8|       360.0|       175|  3850|        11.0|   70|    US|      53|  TEXAS|\n",
      "|       AMC Spirit DL|27.4|        4|       121.0|        80|  2670|        15.0|   79|    US|     575|     OH|\n",
      "|         Audi 100 LS|24.0|        4|       107.0|        90|  2430|        14.5|   70|Europe|      65|NewYork|\n",
      "|          Audi 100LS|20.0|        4|       114.0|        91|  2582|        14.0|   73|Europe|     164|     NJ|\n",
      "|          Audi 100LS|23.0|        4|       115.0|        95|  2694|        15.0|   75|Europe|      45| DALLAS|\n",
      "|           Audi 4000|34.3|        4|        97.0|        78|  2188|        15.8|   80|Europe|     362|  TEXAS|\n",
      "|           Audi 5000|20.3|        5|       131.0|       103|  2830|        15.9|   78|Europe|     319|     OH|\n",
      "| Audi 5000s (diesel)|36.4|        5|       121.0|        67|  2950|        19.9|   80|Europe|     372|NewYork|\n",
      "|            Audi Fox|29.0|        4|        98.0|        83|  2219|        16.5|   74|Europe|     186|     NJ|\n",
      "|            BMW 2002|26.0|        4|       121.0|       113|  2234|        12.5|   70|Europe|      67| DALLAS|\n",
      "|            BMW 320i|21.5|        4|       121.0|       110|  2600|        12.8|   77|Europe|     287|  TEXAS|\n",
      "|       Buick Century|17.0|        6|       231.0|       110|  3907|        21.0|   75|    US|     205|     OH|\n",
      "|       Buick Century|22.4|        6|       231.0|       110|  3415|        15.8|   81|    US|     409|NewYork|\n",
      "|   Buick Century 350|13.0|        8|       350.0|       175|  4100|        13.0|   73|    US|     130|     NJ|\n",
      "|Buick Century Lim...|25.0|        6|       181.0|       110|  2945|        16.4|   82|    US|     432| DALLAS|\n",
      "|Buick Century Lux...|13.0|        8|       350.0|       150|  4699|        14.5|   74|    US|     182|  TEXAS|\n",
      "|Buick Century Spe...|20.6|        6|       231.0|       105|  3380|        15.8|   78|    US|     303|     OH|\n",
      "|Buick Electra 225...|12.0|        8|       455.0|       225|  4951|        11.0|   73|    US|     140|NewYork|\n",
      "|Buick Estate Wago...|14.0|        8|       455.0|       225|  3086|        10.0|   70|    US|      57|     NJ|\n",
      "|Buick Estate Wago...|16.9|        8|       350.0|       155|  4360|        14.9|   79|    US|     334| DALLAS|\n",
      "|Buick LeSabre Custom|13.0|        8|       350.0|       155|  4502|        13.5|   72|    US|     113|  TEXAS|\n",
      "|Buick Opel Isuzu ...|30.0|        4|       111.0|        80|  2155|        14.8|   77|    US|     814|     OH|\n",
      "|Buick Regal Sport...|17.7|        6|       231.0|       165|  3445|        13.4|   78|    US|     308|NewYork|\n",
      "|       Buick Skyhawk|21.0|        6|       231.0|       110|  3039|        15.0|   75|    US|     209|     NJ|\n",
      "|       Buick Skylark|20.5|        6|       231.0|       105|  3425|        16.9|   77|    US|     271| DALLAS|\n",
      "|       Buick Skylark|26.6|        4|       151.0|        84|  2635|        16.4|   81|    US|     384|NewYork|\n",
      "|   Buick Skylark 320|15.0|        8|       350.0|       165|  3693|        11.5|   70|    US|      25|     NJ|\n",
      "|Buick Skylark Lim...|28.4|        4|       151.0|        90|  2670|        16.0|   79|    US|     350| DALLAS|\n",
      "|   Cadillac Eldorado|23.0|        8|       350.0|       125|  3900|        17.4|   79|    US|     343|  TEXAS|\n",
      "|    Cadillac Seville|16.5|        8|       350.0|       180|  4380|        12.1|   76|    US|      28|     OH|\n",
      "|            Capri ii|25.0|        4|       140.0|        92|  2572|        14.9|   76|    US|     229|NewYork|\n",
      "|   Chevrolet Bel Air|15.0|        8|       350.0|       145|  4440|        14.0|   75|    US|     202|     NJ|\n",
      "|       Chevrolet C10|13.0|        8|       350.0|       145|  4055|        12.0|   76|    US|      75| DALLAS|\n",
      "|    Chevrolet Camaro|27.0|        4|       151.0|        90|  2950|        17.3|   82|    US|     438|  TEXAS|\n",
      "|Chevrolet Caprice...|13.0|        8|       400.0|       150|  4464|        12.0|   73|    US|     136|     OH|\n",
      "|Chevrolet Caprice...|17.5|        8|       305.0|       145|  3880|        12.5|   77|    US|     266|NewYork|\n",
      "|Chevrolet Caprice...|17.0|        8|       305.0|       130|  3840|        15.4|   79|    US|     330|     NJ|\n",
      "|  Chevrolet Cavalier|28.0|        4|       112.0|        88|  2605|        19.6|   82|    US|     413| DALLAS|\n",
      "|Chevrolet Cavalie...|34.0|        4|       112.0|        88|  2395|        18.0|   82|    US|     415|  TEXAS|\n",
      "|Chevrolet Cavalie...|27.0|        4|       112.0|        88|  2640|        18.6|   82|    US|     414|     OH|\n",
      "|Chevrolet Chevell...| 0.0|        8|       350.0|       165|  4142|        11.5|   70|    US|      33|NewYork|\n",
      "|Chevrolet Chevell...|13.0|        8|       307.0|       130|  4098|        14.0|   72|    US|     118|     NJ|\n",
      "|Chevrolet Chevell...|18.0|        8|       307.0|       130|  3504|        12.0|   70|    US|      20| DALLAS|\n",
      "|Chevrolet Chevell...|17.0|        6|       250.0|       100|  3329|        15.5|   71|    US|      80|NewYork|\n",
      "|Chevrolet Chevell...|16.0|        6|       250.0|       100|  3781|        17.0|   74|    US|     178|     NJ|\n",
      "|Chevrolet Chevell...|17.5|        8|       305.0|       140|  4215|        13.0|   76|    US|     232| DALLAS|\n",
      "|  Chevrolet Chevette|29.0|        4|        85.0|        52|  2035|        22.2|   76|    US|     240|  TEXAS|\n",
      "|  Chevrolet Chevette|30.5|        4|        98.0|        63|  2051|        17.0|   77|    US|     282|     OH|\n",
      "|  Chevrolet Chevette|30.0|        4|        98.0|        68|  2155|        16.5|   78|    US|     311|NewYork|\n",
      "|  Chevrolet Chevette|32.1|        4|        98.0|        70|  2120|        15.5|   80|    US|     356|     NJ|\n",
      "|  Chevrolet Citation|28.8|        6|       173.0|       115|  2595|        11.3|   79|    US|     351| DALLAS|\n",
      "|  Chevrolet Citation|28.0|        4|       151.0|        90|  2678|        16.5|   80|    US|     358|  TEXAS|\n",
      "|  Chevrolet Citation|23.5|        6|       173.0|       110|  2725|        12.6|   81|    US|     386|     OH|\n",
      "|  Chevrolet Concours|17.5|        6|       250.0|       110|  3520|        16.4|   77|    US|       7|NewYork|\n",
      "|    Chevrolet Impala|14.0|        8|       454.0|       220|  4354|         9.0|   70|    US|       7|     NJ|\n",
      "|    Chevrolet Impala|14.0|        8|       350.0|       165|  4209|        12.0|   71|    US|      83| DALLAS|\n",
      "|    Chevrolet Impala|13.0|        8|       350.0|       165|  4274|        12.0|   72|    US|     107|  TEXAS|\n",
      "|    Chevrolet Impala|11.0|        8|       400.0|       150|  4997|        14.0|   73|    US|     148|     OH|\n",
      "|    Chevrolet Malibu|13.0|        8|       350.0|       145|  3988|        13.0|   73|    US|     132|NewYork|\n",
      "|    Chevrolet Malibu|20.5|        6|       200.0|        95|  3155|        18.2|   78|    US|     298|     NJ|\n",
      "|Chevrolet Malibu ...|19.2|        8|       267.0|       125|  3605|        15.0|   79|    US|     336| DALLAS|\n",
      "|Chevrolet Monte C...|15.0|        8|       400.0|       150|  3761|         9.5|   70|    US|      56|NewYork|\n",
      "|Chevrolet Monte C...|15.5|        8|       350.0|       170|  4165|        11.4|   77|    US|     275|     NJ|\n",
      "|Chevrolet Monte C...|19.2|        8|       305.0|       145|  3425|        13.2|   78|    US|     307| DALLAS|\n",
      "|Chevrolet Monte C...|15.0|        8|       350.0|       145|  4082|        13.0|   73|    US|     160|  TEXAS|\n",
      "| Chevrolet Monza 2+2|20.0|        8|       262.0|       110|  3221|        13.5|   75|    US|     210|     OH|\n",
      "|      Chevrolet Nova|15.0|        6|       250.0|       100|  3336|        17.0|   74|    US|     173|NewYork|\n",
      "|      Chevrolet Nova|18.0|        6|       250.0|       105|  3459|        16.0|   75|    US|     198|     NJ|\n",
      "|      Chevrolet Nova|22.0|        6|       250.0|       105|  3353|        14.5|   76|    US|     237| DALLAS|\n",
      "|Chevrolet Nova Cu...|16.0|        6|       250.0|       100|  3278|        18.0|   73|    US|     143|  TEXAS|\n",
      "|      Chevrolet Vega|20.0|        4|       140.0|        90|  2408|        19.5|   72|    US|     105|     OH|\n",
      "|      Chevrolet Vega|21.0|        4|       140.0|        72|  2401|        19.5|   73|    US|     154|NewYork|\n",
      "|      Chevrolet Vega|25.0|        4|       140.0|        75|  2542|        17.0|   74|    US|     177|     NJ|\n",
      "+--------------------+----+---------+------------+----------+------+------------+-----+------+--------+-------+\n",
      "only showing top 100 rows\n",
      "\n"
     ]
    }
   ],
   "source": [
    "cardf.createTempView(\"dealer\")  # deal will use as a table name\n",
    "spark.sql(\"SELECT * from dealer\").show(100)\n"
   ]
  },
  {
   "cell_type": "code",
   "execution_count": 5,
   "metadata": {},
   "outputs": [
    {
     "name": "stdout",
     "output_type": "stream",
     "text": [
      "+--------------------+-----+\n",
      "|                 Car|count|\n",
      "+--------------------+-----+\n",
      "|Chevrolete Chevel...|    1|\n",
      "|Volkswagen 1131 D...|    1|\n",
      "|Chevrolet Monte C...|    2|\n",
      "|     Ford LTD Landau|    1|\n",
      "|       Honda Prelude|    1|\n",
      "|      Chevrolet Nova|    3|\n",
      "|   Volkswagen Rabbit|    5|\n",
      "|     Ford Torino 500|    1|\n",
      "|        Toyota Camry|    1|\n",
      "|         Audi 100 LS|    1|\n",
      "|Plymouth Valiant ...|    1|\n",
      "|Toyota Corolla Ma...|    1|\n",
      "|Oldsmobile Cutlas...|    1|\n",
      "|Fiat 124 Sport Coupe|    1|\n",
      "|Chevrolet Caprice...|    3|\n",
      "|     Volvo 145e (sw)|    1|\n",
      "|    Chevrolet Camaro|    1|\n",
      "|            Audi Fox|    1|\n",
      "|       Dodge Aspen 6|    1|\n",
      "|    Pontiac Catalina|    3|\n",
      "+--------------------+-----+\n",
      "only showing top 20 rows\n",
      "\n"
     ]
    }
   ],
   "source": [
    "spark.sql(\"SELECT Car, count(DISTINCT city) AS count FROM dealer GROUP BY Car\").show()"
   ]
  },
  {
   "cell_type": "markdown",
   "metadata": {},
   "source": [
    "Example 2:  Find Sum of Quantity per Dealer. Group by `car.`\n"
   ]
  },
  {
   "cell_type": "code",
   "execution_count": 6,
   "metadata": {},
   "outputs": [
    {
     "name": "stdout",
     "output_type": "stream",
     "text": [
      "+--------------------+-------------+\n",
      "|                 Car|sum(quantity)|\n",
      "+--------------------+-------------+\n",
      "|Chevrolete Chevel...|          206|\n",
      "|Volkswagen 1131 D...|           63|\n",
      "|Chevrolet Monte C...|          582|\n",
      "|     Ford LTD Landau|          331|\n",
      "|       Honda Prelude|          400|\n",
      "|      Chevrolet Nova|          608|\n",
      "|   Volkswagen Rabbit|         1441|\n",
      "|     Ford Torino 500|           81|\n",
      "|        Toyota Camry|          153|\n",
      "|         Audi 100 LS|           65|\n",
      "|Plymouth Valiant ...|          197|\n",
      "|Toyota Corolla Ma...|          127|\n",
      "|Oldsmobile Cutlas...|          752|\n",
      "|Fiat 124 Sport Coupe|          159|\n",
      "|Chevrolet Caprice...|          732|\n",
      "|     Volvo 145e (sw)|          121|\n",
      "|            Audi Fox|          186|\n",
      "|    Chevrolet Camaro|          438|\n",
      "|       Dodge Aspen 6|          329|\n",
      "|AMC Ambassador Br...|           25|\n",
      "+--------------------+-------------+\n",
      "only showing top 20 rows\n",
      "\n"
     ]
    }
   ],
   "source": [
    "spark.sql(\"SELECT Car, sum(quantity) FROM dealer GROUP BY Car\").show()"
   ]
  },
  {
   "cell_type": "markdown",
   "metadata": {},
   "source": [
    "Example 3:  Multiple aggregations.\n",
    "-- a. Sum of quantity per dealership.\n",
    "-- b. Max quantity per dealership."
   ]
  },
  {
   "cell_type": "code",
   "execution_count": 7,
   "metadata": {},
   "outputs": [
    {
     "name": "stdout",
     "output_type": "stream",
     "text": [
      "+--------------------+---+---+\n",
      "|                 Car|sum|max|\n",
      "+--------------------+---+---+\n",
      "|AMC Ambassador Br...| 25| 25|\n",
      "|  AMC Ambassador DPL|  2|  2|\n",
      "|  AMC Ambassador SST|  4|  4|\n",
      "|         AMC Concord| 94| 52|\n",
      "|      AMC Concord DL| 45| 45|\n",
      "|    AMC Concord DL 6|328|328|\n",
      "|     AMC Concord d/l|  4|  4|\n",
      "|         AMC Gremlin|512|214|\n",
      "|          AMC Hornet|404|172|\n",
      "|AMC Hornet Sporta...| 90| 90|\n",
      "|         AMC Matador|833|234|\n",
      "|    AMC Matador (sw)|302|185|\n",
      "|           AMC Pacer|221|221|\n",
      "|       AMC Pacer d/l| 75| 75|\n",
      "|       AMC Rebel SST|  4|  4|\n",
      "|  AMC Rebel SST (sw)| 53| 53|\n",
      "|       AMC Spirit DL|575|575|\n",
      "|         Audi 100 LS| 65| 65|\n",
      "|          Audi 100LS|209|164|\n",
      "|           Audi 4000|362|362|\n",
      "+--------------------+---+---+\n",
      "only showing top 20 rows\n",
      "\n"
     ]
    }
   ],
   "source": [
    "spark.sql(\"SELECT Car, sum(quantity) AS sum, max(quantity) AS max FROM dealer GROUP BY Car ORDER BY Car\").show();"
   ]
  },
  {
   "cell_type": "markdown",
   "metadata": {},
   "source": [
    "Example 4: Count the number of distinct dealer cities per car."
   ]
  },
  {
   "cell_type": "code",
   "execution_count": 8,
   "metadata": {},
   "outputs": [
    {
     "name": "stdout",
     "output_type": "stream",
     "text": [
      "+--------------------+-----+\n",
      "|                 Car|count|\n",
      "+--------------------+-----+\n",
      "|Chevrolete Chevel...|    1|\n",
      "|Volkswagen 1131 D...|    1|\n",
      "|Chevrolet Monte C...|    2|\n",
      "|     Ford LTD Landau|    1|\n",
      "|       Honda Prelude|    1|\n",
      "|      Chevrolet Nova|    3|\n",
      "|   Volkswagen Rabbit|    5|\n",
      "|     Ford Torino 500|    1|\n",
      "|        Toyota Camry|    1|\n",
      "|         Audi 100 LS|    1|\n",
      "|Plymouth Valiant ...|    1|\n",
      "|Toyota Corolla Ma...|    1|\n",
      "|Oldsmobile Cutlas...|    1|\n",
      "|Fiat 124 Sport Coupe|    1|\n",
      "|Chevrolet Caprice...|    3|\n",
      "|     Volvo 145e (sw)|    1|\n",
      "|    Chevrolet Camaro|    1|\n",
      "|            Audi Fox|    1|\n",
      "|       Dodge Aspen 6|    1|\n",
      "|    Pontiac Catalina|    3|\n",
      "+--------------------+-----+\n",
      "only showing top 20 rows\n",
      "\n"
     ]
    }
   ],
   "source": [
    "spark.sql(\"SELECT Car, count(DISTINCT city) AS count FROM dealer GROUP BY Car\").show()"
   ]
  },
  {
   "cell_type": "markdown",
   "metadata": {},
   "source": [
    "Example 5: Find the cars that have quantities greater than 200, and display data in descending order by quantity."
   ]
  },
  {
   "cell_type": "code",
   "execution_count": 9,
   "metadata": {},
   "outputs": [
    {
     "name": "stdout",
     "output_type": "stream",
     "text": [
      "+--------------------+----+---------+------------+----------+------+------------+-----+------+--------+------+\n",
      "|                 Car| MPG|Cylinders|Displacement|Horsepower|Weight|Acceleration|Model|Origin|quantity|  city|\n",
      "+--------------------+----+---------+------------+----------+------+------------+-----+------+--------+------+\n",
      "|   Plymouth Arrow GS|25.5|        4|       122.0|        96|  2300|        15.5|   77|    US|   75275|    OH|\n",
      "|Buick Opel Isuzu ...|30.0|        4|       111.0|        80|  2155|        14.8|   77|    US|     814|    OH|\n",
      "|      Toyota Mark II|19.0|        6|       156.0|       108|  2930|        15.5|   76| Japan|     757| TEXAS|\n",
      "|Oldsmobile Cutlas...|17.0|        8|       260.0|       110|  4060|        19.0|   77|    US|     752|    NJ|\n",
      "|       AMC Spirit DL|27.4|        4|       121.0|        80|  2670|        15.0|   79|    US|     575|    OH|\n",
      "|     Ford Mustang GL|27.0|        4|       140.0|        86|  2790|        15.6|   82|    US|     439|    OH|\n",
      "|    Chevrolet Camaro|27.0|        4|       151.0|        90|  2950|        17.3|   82|    US|     438| TEXAS|\n",
      "|    Toyota Celica GT|32.0|        4|       144.0|        96|  2665|        13.9|   82| Japan|     436| TEXAS|\n",
      "|Chrysler Lebaron ...|26.0|        4|       156.0|        92|  2585|        14.5|   82|    US|     434|DALLAS|\n",
      "|Buick Century Lim...|25.0|        6|       181.0|       110|  2945|        16.4|   82|    US|     432|DALLAS|\n",
      "|       Datsun 310 GX|38.0|        4|        91.0|        67|  1995|        16.2|   82| Japan|     431|    NJ|\n",
      "|  Honda Civic (auto)|32.0|        4|        91.0|        67|  1965|        15.7|   82| Japan|     430| TEXAS|\n",
      "|      Toyota Corolla|34.0|        4|       108.0|        70|  2245|        16.9|   82| Japan|     428|    NJ|\n",
      "|        Honda Accord|36.0|        4|       107.0|        75|  2205|        14.5|   82| Japan|     427|    OH|\n",
      "|      Mercury Lynx l|36.0|        4|        98.0|        70|  2125|        17.3|   82|    US|     425| TEXAS|\n",
      "|Plymouth Horizon ...|38.0|        4|       105.0|        63|  2125|        14.7|   82|    US|     424|DALLAS|\n",
      "|    Mazda GLC Custom|31.0|        4|        91.0|        68|  1970|        17.6|   82| Japan|     423| TEXAS|\n",
      "|  Mazda GLC Custom l|37.0|        4|        91.0|        68|  2025|        18.2|   82| Japan|     422|    OH|\n",
      "| Volkswagen Rabbit l|36.0|        4|       105.0|        74|  1980|        15.3|   82|Europe|     421|    NJ|\n",
      "|Ford Fairmont Futura|24.0|        4|       140.0|        92|  2865|        16.4|   82|    US|     419|    NJ|\n",
      "+--------------------+----+---------+------------+----------+------+------------+-----+------+--------+------+\n",
      "only showing top 20 rows\n",
      "\n"
     ]
    }
   ],
   "source": [
    "spark.sql(\"SELECT * FROM dealer WHERE quantity > 200 ORDER BY quantity desc\").show();"
   ]
  },
  {
   "cell_type": "markdown",
   "metadata": {},
   "source": [
    "Example 6: Scalar Subquery in `WHERE` clause.\n",
    "Find the cars that have a horsepower greater than “average.”"
   ]
  },
  {
   "cell_type": "code",
   "execution_count": 10,
   "metadata": {},
   "outputs": [
    {
     "name": "stdout",
     "output_type": "stream",
     "text": [
      "+--------------------+----+---------+------------+----------+------+------------+-----+------+--------+-------+\n",
      "|                 Car| MPG|Cylinders|Displacement|Horsepower|Weight|Acceleration|Model|Origin|quantity|   city|\n",
      "+--------------------+----+---------+------------+----------+------+------------+-----+------+--------+-------+\n",
      "|AMC Ambassador Br...|13.0|        8|       360.0|       175|  3821|        11.0|   73|    US|      25|NewYork|\n",
      "|  AMC Ambassador DPL|15.0|        8|       390.0|       190|  3850|         8.5|   70|    US|       2|     NJ|\n",
      "|  AMC Ambassador SST|17.0|        8|       304.0|       150|  3672|        11.5|   72|    US|       4| DALLAS|\n",
      "|     AMC Concord d/l|18.1|        6|       258.0|       120|  3410|        15.1|   78|    US|       4|NewYork|\n",
      "|AMC Hornet Sporta...|18.0|        6|       258.0|       110|  2962|        13.5|   71|    US|      90|     NJ|\n",
      "|         AMC Matador|14.0|        8|       304.0|       150|  3672|        11.5|   73|    US|     131|  TEXAS|\n",
      "|         AMC Matador|16.0|        6|       258.0|       110|  3632|        18.0|   74|    US|     179|NewYork|\n",
      "|         AMC Matador|15.0|        6|       258.0|       110|  3730|        19.0|   75|    US|     207|     NJ|\n",
      "|         AMC Matador|15.5|        8|       304.0|       120|  3962|        13.9|   76|    US|     234| DALLAS|\n",
      "|    AMC Matador (sw)|15.0|        8|       304.0|       150|  3892|        12.5|   72|    US|     117|  TEXAS|\n",
      "|    AMC Matador (sw)|14.0|        8|       304.0|       150|  4257|        15.5|   74|    US|     185|     OH|\n",
      "|       AMC Rebel SST|16.0|        8|       304.0|       150|  3433|        12.0|   70|    US|       4| DALLAS|\n",
      "|  AMC Rebel SST (sw)| 0.0|        8|       360.0|       175|  3850|        11.0|   70|    US|      53|  TEXAS|\n",
      "|            BMW 2002|26.0|        4|       121.0|       113|  2234|        12.5|   70|Europe|      67| DALLAS|\n",
      "|            BMW 320i|21.5|        4|       121.0|       110|  2600|        12.8|   77|Europe|     287|  TEXAS|\n",
      "|       Buick Century|17.0|        6|       231.0|       110|  3907|        21.0|   75|    US|     205|     OH|\n",
      "|       Buick Century|22.4|        6|       231.0|       110|  3415|        15.8|   81|    US|     409|NewYork|\n",
      "|   Buick Century 350|13.0|        8|       350.0|       175|  4100|        13.0|   73|    US|     130|     NJ|\n",
      "|Buick Century Lim...|25.0|        6|       181.0|       110|  2945|        16.4|   82|    US|     432| DALLAS|\n",
      "|Buick Century Lux...|13.0|        8|       350.0|       150|  4699|        14.5|   74|    US|     182|  TEXAS|\n",
      "+--------------------+----+---------+------------+----------+------+------------+-----+------+--------+-------+\n",
      "only showing top 20 rows\n",
      "\n"
     ]
    }
   ],
   "source": [
    "spark.sql(\"SELECT * FROM dealer WHERE Horsepower>(SELECT avg(Horsepower) FROM dealer)\").show();"
   ]
  },
  {
   "cell_type": "markdown",
   "metadata": {},
   "source": [
    " Example 7: Find the sum of only 'Toyota Camrys' and 'Dodge D200s' per dealership."
   ]
  },
  {
   "cell_type": "code",
   "execution_count": 11,
   "metadata": {},
   "outputs": [
    {
     "name": "stdout",
     "output_type": "stream",
     "text": [
      "+--------------------+-------------+\n",
      "|                 Car|sum(quantity)|\n",
      "+--------------------+-------------+\n",
      "|Chevrolete Chevel...|         null|\n",
      "|Volkswagen 1131 D...|         null|\n",
      "|Chevrolet Monte C...|         null|\n",
      "|     Ford LTD Landau|         null|\n",
      "|       Honda Prelude|         null|\n",
      "|      Chevrolet Nova|         null|\n",
      "|   Volkswagen Rabbit|         null|\n",
      "|     Ford Torino 500|         null|\n",
      "|        Toyota Camry|          153|\n",
      "|         Audi 100 LS|         null|\n",
      "|Plymouth Valiant ...|         null|\n",
      "|Toyota Corolla Ma...|         null|\n",
      "|Oldsmobile Cutlas...|         null|\n",
      "|Fiat 124 Sport Coupe|         null|\n",
      "|Chevrolet Caprice...|         null|\n",
      "|     Volvo 145e (sw)|         null|\n",
      "|            Audi Fox|         null|\n",
      "|    Chevrolet Camaro|         null|\n",
      "|       Dodge Aspen 6|         null|\n",
      "|AMC Ambassador Br...|         null|\n",
      "|    Pontiac Catalina|         null|\n",
      "|       Ford Maverick|         null|\n",
      "|      Chevrolet Vega|         null|\n",
      "|   Plymouth Fury III|         null|\n",
      "|       Datsun 200-SX|          318|\n",
      "+--------------------+-------------+\n",
      "only showing top 25 rows\n",
      "\n"
     ]
    }
   ],
   "source": [
    "spark.sql(\"SELECT Car, sum(quantity) FILTER (WHERE Car IN ('Toyota Camry', 'Datsun 200-SX')) AS `sum(quantity)` \\\n",
    "          FROM dealer GROUP BY Car\").show(25);\n"
   ]
  },
  {
   "cell_type": "markdown",
   "metadata": {},
   "source": [
    "Example 8 : Regular Expressions"
   ]
  },
  {
   "cell_type": "code",
   "execution_count": 12,
   "metadata": {},
   "outputs": [
    {
     "name": "stdout",
     "output_type": "stream",
     "text": [
      "+--------------------+----------+\n",
      "|                 Car|  CarTitle|\n",
      "+--------------------+----------+\n",
      "|AMC Ambassador Br...|Ambassador|\n",
      "|  AMC Ambassador DPL|Ambassador|\n",
      "|  AMC Ambassador SST|Ambassador|\n",
      "|         AMC Concord|    Concor|\n",
      "|         AMC Concord|    Concor|\n",
      "|     AMC Concord d/l|   Concord|\n",
      "|      AMC Concord DL|   Concord|\n",
      "|    AMC Concord DL 6|   Concord|\n",
      "|         AMC Gremlin|    Gremli|\n",
      "|         AMC Gremlin|    Gremli|\n",
      "+--------------------+----------+\n",
      "only showing top 10 rows\n",
      "\n"
     ]
    }
   ],
   "source": [
    "spark.sql(\"SELECT Car, REGEXP_EXTRACT(Car, ' ([A-Za-z]+)\\.') AS CarTitle FROM dealer\").show(10)"
   ]
  }
 ],
 "metadata": {
  "kernelspec": {
   "display_name": "Python 3",
   "language": "python",
   "name": "python3"
  },
  "language_info": {
   "codemirror_mode": {
    "name": "ipython",
    "version": 3
   },
   "file_extension": ".py",
   "mimetype": "text/x-python",
   "name": "python",
   "nbconvert_exporter": "python",
   "pygments_lexer": "ipython3",
   "version": "3.10.5"
  }
 },
 "nbformat": 4,
 "nbformat_minor": 2
}
