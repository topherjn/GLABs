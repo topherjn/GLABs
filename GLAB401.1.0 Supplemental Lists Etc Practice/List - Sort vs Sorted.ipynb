{
 "cells": [
  {
   "cell_type": "markdown",
   "metadata": {},
   "source": [
    "The difference between `sort()` method and `sorted()` function in Python is as follows:\n",
    "2024.01.25 vlb\n",
    "1. `sort()` method:\n",
    "   - `sort()` is a method that can be applied directly to a list (or other mutable sequences) in Python.\n",
    "   - It sorts the list in-place, meaning it modifies the original list and does not return a new one.\n",
    "   - Example: `my_list.sort()`\n",
    "\n",
    "2. `sorted()` function:\n",
    "   - `sorted()` is a built-in Python function that takes an iterable (e.g., list, tuple, string) as an argument and returns a new sorted list.\n",
    "   - It does not modify the original iterable, but instead, it creates a sorted copy of it.\n",
    "   - Example: `sorted_list = sorted(my_list)`\n",
    "\n",
    "In summary, `sort()` modifies the list in-place, while `sorted()` creates a new sorted list without modifying the original iterable. Choose the one that suits your needs based on whether you want to sort the original list or create a sorted copy."
   ]
  },
  {
   "cell_type": "markdown",
   "metadata": {},
   "source": [
    "\n",
    "1. Method:\n",
    "   - In object-oriented programming, a \"method\" is a function that is associated with an object or a class.\n",
    "   - Methods are defined within a class and operate on the data (attributes) of that class.\n",
    "   - They can access and modify the object's state and are typically invoked on an instance of the class using the dot notation.\n",
    "   - In the context of `sort()` method, it is associated with a list object, and you call it on the list directly, like `my_list.sort()`.\n",
    "\n",
    "2. Function:\n",
    "   - A \"function\" is a block of code that performs a specific task and can be defined independently of any class or object.\n",
    "   - Functions can take arguments, perform operations, and return results.\n",
    "   - They are not tied to any specific object or class and can be used globally in the code.\n",
    "   - In the context of `sorted()` function, it is not bound to any specific object, and you call it independently, like `sorted(my_list)`.\n"
   ]
  },
  {
   "cell_type": "markdown",
   "metadata": {},
   "source": [
    "The distinction between \"method\" and \"function\" is rooted in the concept of object-oriented programming (OOP) and the differences in how they are used.\n",
    "\n",
    "In Python, both methods and functions are used to organize and structure code effectively. Methods are often used when dealing with class-specific behavior and data, while functions are used for general tasks that do not rely on a specific object or class."
   ]
  },
  {
   "cell_type": "markdown",
   "metadata": {},
   "source": [
    "'''In Python, the `sort()` method is specifically designed to be used with list objects, and it sorts the elements of the list in place. This means it modifies the original list and does not return a new sorted list.\n",
    "\n",
    "However, there is a similar built-in function called `sorted()`, which can be used with various iterables, not just lists. The `sorted()` function takes an iterable (e.g., list, tuple, string) as an argument and returns a new sorted list, leaving the original iterable unchanged.\n"
   ]
  },
  {
   "cell_type": "code",
   "execution_count": 18,
   "metadata": {},
   "outputs": [],
   "source": [
    "#Note: all the print lines are commented out. you will need to uncomment them to test the sections of code.  Ideally, you would break each example out into its own jupyter cell.\n",
    "#Here are some examples of using `sorted()` with different iterables:\n",
    "\n",
    "#1. With lists:\n",
    "#when we use sorted() function, it creates a brand new item (object)\n",
    "#we see this on the line 8 where we assign a new variable to the new sorted(my_list)\n",
    "my_list = [3, 1, 2]\n",
    "sorted_list = sorted(my_list)\n",
    "#print(sorted_list)  # Output: [1, 2, 3]\n",
    "#print(my_list) # Output: [3,1,2]\n",
    "\n",
    "#2. With tuples:\n",
    "my_tuple = (3, 1, 2)\n",
    "sorted_tuple = sorted(my_tuple)\n",
    "#print(sorted_tuple)  # Output: [1, 2, 3]\n",
    "#print(my_tuple)\n",
    "#print(tuple(sorted(my_tuple))) #Output tuple (1,2,3)\n",
    "#my_tuple.sort() #this is not gonna work because tuples are immmutable and cannot be modified.  PLUS sort() method ONLY applies to object lists\n",
    "\n",
    "#3. With strings:\n",
    "\n",
    "my_string = \"hello\"\n",
    "sorted_string = sorted(my_string)\n",
    "#print(sorted_string)  # Output: ['e', 'h', 'l', 'l', 'o']\n"
   ]
  },
  {
   "cell_type": "markdown",
   "metadata": {},
   "source": [
    "Since `sorted()` is more versatile and can be used with various iterables, it is preferred when you need to sort elements outside of lists."
   ]
  },
  {
   "cell_type": "code",
   "execution_count": 6,
   "metadata": {},
   "outputs": [
    {
     "name": "stdout",
     "output_type": "stream",
     "text": [
      "['Ray', 'Carlos', 'Valerie']\n"
     ]
    }
   ],
   "source": [
    "#using an inner function like len() as a key to modify the sorted() function order\n",
    "#note:  len() function can be used with any data structure that supports the concept of \"length\" or \"size.\" \n",
    "names = ['Carlos', 'Ray', 'Valerie']\n",
    "print(sorted(names, key=len))\n"
   ]
  },
  {
   "cell_type": "code",
   "execution_count": null,
   "metadata": {},
   "outputs": [],
   "source": [
    "# https://www.programiz.com/python-programming/methods/built-in/sorted\n",
    "\n",
    "# take the second element for sort\n",
    "def take_second(elem):\n",
    "    return elem[1]\n",
    "\n",
    "# random list\n",
    "random = [(2, 2), (3, 4), (4, 1), (1, 3)]\n",
    "\n",
    "# sort list with key\n",
    "sorted_list = sorted(random, key=take_second)\n",
    "\n",
    "# print list\n",
    "print('Sorted list:', sorted_list)"
   ]
  },
  {
   "cell_type": "code",
   "execution_count": 26,
   "metadata": {},
   "outputs": [
    {
     "name": "stdout",
     "output_type": "stream",
     "text": [
      "Sorted list: [(4, 1), (2, 2), (1, 3), (3, 4)]\n"
     ]
    }
   ],
   "source": [
    "# https://www.programiz.com/python-programming/methods/built-in/sorted\n",
    "\n",
    "# Define a function named `take_second` that takes one argument `elem`.\n",
    "# The function will be used as the sorting key to sort the list of tuples based on their second element.\n",
    "def take_second(elem):\n",
    "    return elem[1]\n",
    "\n",
    "# Initialize a list called `random` containing four tuples. Each tuple contains two elements.\n",
    "random = [(2, 2), (3, 4), (4, 1), (1, 3)]\n",
    "\n",
    "# Sort the `random` list using the `sorted()` function.\n",
    "# The `key` parameter is set to `take_second`, meaning that the `take_second` function will be used as the sorting key.\n",
    "# The `take_second` function extracts the second element of each tuple and uses it for sorting.\n",
    "sorted_list = sorted(random, key=take_second)\n",
    "\n",
    "# Print the sorted list to the console.\n",
    "print('Sorted list:', sorted_list)\n"
   ]
  },
  {
   "cell_type": "code",
   "execution_count": 25,
   "metadata": {},
   "outputs": [
    {
     "name": "stdout",
     "output_type": "stream",
     "text": [
      "['Rey', 'Vilerie', 'Corlos']\n"
     ]
    }
   ],
   "source": [
    "#Applying  above logic to a list of strings\n",
    "\n",
    "#print(sorted(names, key=len))\n",
    "names = ['Corlos', 'Rey', 'Valerie']\n",
    "def second_char(elem):\n",
    "    return elem[1]\n",
    "print(sorted(names, key=second_char))\n",
    "#Note this works because when we specify the function as a key, it iterates across all elements of a list"
   ]
  },
  {
   "cell_type": "code",
   "execution_count": null,
   "metadata": {},
   "outputs": [],
   "source": [
    "#alternate solution #1 create a tuple of the name and its 2nd character\n",
    "# Define a function named `take_second` that takes one argument `elem`.\n",
    "# The function will be used as the sorting key to sort the list of strings based on their second character.\n",
    "def take_second(elem):\n",
    "    return elem[1]\n",
    "\n",
    "# List of names\n",
    "names = [\"Rey\", \"Valerie\", \"Corlos\"]\n",
    "\n",
    "# Convert the names list into a list of tuples, where each tuple contains a name and its second character.\n",
    "# Use the `take_second` function to extract the second character of each name.\n",
    "names_with_second_char = [(name, take_second(name)) for name in names]\n",
    "\n",
    "# Sort the `names_with_second_char` list using the `sorted()` function.\n",
    "# The `key` parameter is set to `take_second`, meaning that the `take_second` function will be used as the sorting key.\n",
    "# The sorting will be based on the second character of each name.\n",
    "sorted_names = sorted(names_with_second_char, key=take_second)\n",
    "\n",
    "# Extract the sorted names from the tuples and create a final list with the sorted names.\n",
    "sorted_names_only = [name for name, _ in sorted_names]\n",
    "\n",
    "# Print the sorted list of names to the console.\n",
    "print('Sorted list of names:', sorted_names_only)\n"
   ]
  },
  {
   "cell_type": "code",
   "execution_count": null,
   "metadata": {},
   "outputs": [],
   "source": [
    "#Alternate solution 2 - lamda functions\n",
    "# List of names\n",
    "names = [\"Rey\", \"Valerie\", \"Corlos\"]\n",
    "\n",
    "# Sort the `names` list using the `sorted()` function with a lambda function as the key.\n",
    "# The lambda function extracts the second character of each name and uses it for sorting.\n",
    "sorted_names = sorted(names, key=lambda name: name[1])\n",
    "\n",
    "# Print the sorted list of names to the console.\n",
    "print('Sorted list of names:', sorted_names)\n"
   ]
  }
 ],
 "metadata": {
  "kernelspec": {
   "display_name": "Python 3",
   "language": "python",
   "name": "python3"
  },
  "language_info": {
   "codemirror_mode": {
    "name": "ipython",
    "version": 3
   },
   "file_extension": ".py",
   "mimetype": "text/x-python",
   "name": "python",
   "nbconvert_exporter": "python",
   "pygments_lexer": "ipython3",
   "version": "3.10.10"
  },
  "orig_nbformat": 4
 },
 "nbformat": 4,
 "nbformat_minor": 2
}
